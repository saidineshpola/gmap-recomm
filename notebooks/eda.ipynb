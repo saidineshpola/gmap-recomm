{
 "cells": [
  {
   "cell_type": "markdown",
   "metadata": {},
   "source": [
    "## DATA read"
   ]
  },
  {
   "cell_type": "code",
   "execution_count": 4,
   "metadata": {},
   "outputs": [
    {
     "name": "stdout",
     "output_type": "stream",
     "text": [
      "{'name': 'Madison-Milton Bridge View Parking', 'address': 'Madison-Milton Bridge View Parking, E Vaughn Dr, Madison, IN 47250', 'gmap_id': '0x886a3b4c76ed7e37:0x724d2e27d8e953cc', 'description': None, 'latitude': 38.7326213, 'longitude': -85.3702586, 'category': ['Park'], 'avg_rating': 4.5, 'num_of_reviews': 168, 'price': None, 'hours': [['Sunday', 'Open 24 hours'], ['Monday', 'Open 24 hours'], ['Tuesday', 'Open 24 hours'], ['Wednesday', 'Open 24 hours'], ['Thursday', 'Open 24 hours'], ['Friday', 'Open 24 hours'], ['Saturday', 'Open 24 hours']], 'MISC': {'Accessibility': ['Wheelchair accessible entrance'], 'Amenities': ['Good for kids']}, 'state': 'Open 24 hours', 'relative_results': ['0x886a3b3da18f460f:0xa777f47b3ef9e82e', '0x886a3adff337cc75:0x43427fa8f1def12c', '0x886a3ad80edc8485:0xc07f22931bd79bdf', '0x886a3b914744b737:0xe5d84f4f5983b058', '0x886a3b28000d4b7f:0x40661d564aa01169'], 'url': 'https://www.google.com/maps/place//data=!4m2!3m1!1s0x886a3b4c76ed7e37:0x724d2e27d8e953cc?authuser=-1&hl=en&gl=us'}\n"
     ]
    }
   ],
   "source": [
    "import gzip\n",
    "import json\n",
    "from tqdm import tqdm\n",
    "# Assuming 'review-Indiana_10.json.gz' is the path to your gzip file\n",
    "def read_one_line(path, target_gmap_id='ChIJ0ZGKJp3Qa4gRZb4q4ZCv0v0'):\n",
    "    with gzip.open(path, 'rt', encoding='utf-8') as g:\n",
    "        counter=0\n",
    "        for line in g:\n",
    "            counter+=1\n",
    "            data = json.loads(line)\n",
    "            # if counter==19:\n",
    "            #     return data\n",
    "            # if data.get('category') and 'Book store' in data.get('category'):\n",
    "            #     return data\n",
    "            if data.get('gmap_id') == target_gmap_id:\n",
    "                return data\n",
    "    return \"gmap_id not found.\"\n",
    "\n",
    "# Example usage\n",
    "path = '../datasets/indiana/meta-Indiana.json.gz'\n",
    "target_gmap_id = '0x886a3b4c76ed7e37:0x724d2e27d8e953cc'\n",
    "first_line = read_one_line(path, target_gmap_id)\n",
    "print(first_line)"
   ]
  },
  {
   "cell_type": "code",
   "execution_count": 1,
   "metadata": {},
   "outputs": [
    {
     "name": "stdout",
     "output_type": "stream",
     "text": [
      "{'user_id': '113679589157058895733', 'name': 'Lonnie Lagle', 'time': 1623980151168, 'rating': 5, 'text': 'My Granddaughter Marley enjoys reading, thank God, so she got 2 books and was able to buy the books and still have money left for additional shopping!!! I looked around but could not find what I wanted and the clerk was already helping 2 others plus checking customers out and we stillhadshops Marley wanting to visit. Great place. My Son, my Daughter-in-law and Granddaughter are all fans of this store and all three of them are very educated. If you need a book, some games and other materials you need to check this store out. By the way all of their stores are a like so if you go to Greenwood Mall or the one in Colorado Springs CO you will see the same thing!', 'pics': None, 'resp': None, 'gmap_id': '0x886b5ce67b02ad07:0x4db3aac93b11939b'}\n"
     ]
    }
   ],
   "source": [
    "import gzip\n",
    "import json\n",
    "\n",
    "def get_info_by_gmap_id(path, target_gmap_id):\n",
    "    with gzip.open(path, 'rt', encoding='utf-8') as g:\n",
    "        for line in g:\n",
    "            data = json.loads(line)\n",
    "            if data.get('gmap_id') == target_gmap_id:\n",
    "                return data\n",
    "    return \"gmap_id not found.\"\n",
    "\n",
    "# Example usage\n",
    "path = '../datasets/indiana/review-Indiana_10.json.gz'\n",
    "target_gmap_id = '0x886b5ce67b02ad07:0x4db3aac93b11939b'\n",
    "info = get_info_by_gmap_id(path, target_gmap_id)\n",
    "print(info)"
   ]
  },
  {
   "cell_type": "code",
   "execution_count": 4,
   "metadata": {},
   "outputs": [
    {
     "name": "stderr",
     "output_type": "stream",
     "text": [
      "291736it [00:01, 200264.34it/s]"
     ]
    },
    {
     "name": "stdout",
     "output_type": "stream",
     "text": [
      "{'user_id': '103295999375882391277', 'name': 'Golden Brown', 'time': 1623583596836, 'rating': 5, 'text': 'Great parking. Huge selection. Will price match online. Friendly staff', 'pics': [{'url': ['https://lh5.googleusercontent.com/p/AF1QipN4l5S6Vcs6ew7eYM2URIBojwHad1XUTdSUaG0Q=w150-h150-k-no-p']}, {'url': ['https://lh5.googleusercontent.com/p/AF1QipNKyp8aZ-8mSNh-xR88hyFgrBgYJuc4Qhe1qRnM=w150-h150-k-no-p']}], 'resp': None, 'gmap_id': '0x886b5ce67b02ad07:0x4db3aac93b11939b'}\n",
      "{'user_id': '116331095612381853139', 'name': 'victor hilliar', 'time': 1619996795211, 'rating': 5, 'text': 'Beautiful bookstore with a nice atmosphere.', 'pics': [{'url': ['https://lh5.googleusercontent.com/p/AF1QipO5SKXp_RXS17bVgFdMP06dX98aooyLHMmwPmsV=w150-h150-k-no-p']}], 'resp': None, 'gmap_id': '0x886b5ce67b02ad07:0x4db3aac93b11939b'}\n",
      "{'user_id': '102491694944565850706', 'name': 'Michelle Winzenread', 'time': 1611695927963, 'rating': 5, 'text': 'Found both books i was looking for here!!', 'pics': [{'url': ['https://lh5.googleusercontent.com/p/AF1QipMMiE_7GRNFbR04mVlZbh4GI_NZHeSS3KxVRYJZ=w150-h150-k-no-p']}], 'resp': None, 'gmap_id': '0x886b5ce67b02ad07:0x4db3aac93b11939b'}\n",
      "{'user_id': '117523847771660074079', 'name': 'Gary Hundley', 'time': 1575609107377, 'rating': 5, 'text': 'I was looking for the new book from Southwest Airline\\'s Captain, Tammie Jo Shults titled, \"Nerves Of Steel.\"  Excellent reading.  True story.', 'pics': [{'url': ['https://lh5.googleusercontent.com/p/AF1QipMbae89_omZkCoMXlZmdn5aa5WRIl1YWLT0wDaE=w150-h150-k-no-p']}], 'resp': None, 'gmap_id': '0x886b5ce67b02ad07:0x4db3aac93b11939b'}\n",
      "{'user_id': '118023625465645395889', 'name': 'Tim Gill', 'time': 1562507846680, 'rating': 5, 'text': \"Become a BOOKWORM.  B&N is a well kept book destination  Clean.  Helpful bookticians.  Convenient in/out.  Wheelchair accessible.  Reading space cafe'.  Best Seller table.  Collections readings such as F. SCOTT FITZGERALD stories with a single large hardback.  Accessories such as reading lights and large print books.  CD Books.\", 'pics': [{'url': ['https://lh5.googleusercontent.com/p/AF1QipPaxgDuXF_13xbuRB07mOlyLTmBQfwAeRKRbC5v=w150-h150-k-no-p']}, {'url': ['https://lh5.googleusercontent.com/p/AF1QipOmaNi92UiTAs8M6407b5IshTzq0MSUKTJf1tSn=w150-h150-k-no-p']}], 'resp': None, 'gmap_id': '0x886b5ce67b02ad07:0x4db3aac93b11939b'}\n",
      "{'user_id': '110258692446695888053', 'name': 'john knura', 'time': 1596767943875, 'rating': 5, 'text': 'Great variety, grab a coffee &relax.', 'pics': [{'url': ['https://lh5.googleusercontent.com/p/AF1QipO3rnzz6jvvGR3X18zrrGRjfGdO5k712YQf52FV=w150-h150-k-no-p']}], 'resp': None, 'gmap_id': '0x886b5ce67b02ad07:0x4db3aac93b11939b'}\n",
      "{'user_id': '102491694944565850706', 'name': 'Michelle Winzenread', 'time': 1611695927963, 'rating': 5, 'text': 'Found both books i was looking for here!!', 'pics': [{'url': ['https://lh5.googleusercontent.com/p/AF1QipMMiE_7GRNFbR04mVlZbh4GI_NZHeSS3KxVRYJZ=w150-h150-k-no-p']}], 'resp': None, 'gmap_id': '0x886b5ce67b02ad07:0x4db3aac93b11939b'}\n",
      "{'user_id': '117523847771660074079', 'name': 'Gary Hundley', 'time': 1575609107377, 'rating': 5, 'text': 'I was looking for the new book from Southwest Airline\\'s Captain, Tammie Jo Shults titled, \"Nerves Of Steel.\"  Excellent reading.  True story.', 'pics': [{'url': ['https://lh5.googleusercontent.com/p/AF1QipMbae89_omZkCoMXlZmdn5aa5WRIl1YWLT0wDaE=w150-h150-k-no-p']}], 'resp': None, 'gmap_id': '0x886b5ce67b02ad07:0x4db3aac93b11939b'}\n",
      "{'user_id': '100863124441113196869', 'name': 'William Ott', 'time': 1574453645758, 'rating': 5, 'text': 'They were helpful and friendly one I ordered the book Killing the planet and bought the book Killing Uncle Sam', 'pics': [{'url': ['https://lh5.googleusercontent.com/p/AF1QipMH2zKM-nSF8FplHnTUhymIWhhLAJ78rZL54jMu=w150-h150-k-no-p']}, {'url': ['https://lh5.googleusercontent.com/p/AF1QipOcMOv-f8Sj7lJOO9819TPdzuoODIKJqrzoeDky=w150-h150-k-no-p']}], 'resp': None, 'gmap_id': '0x886b5ce67b02ad07:0x4db3aac93b11939b'}\n",
      "{'user_id': '115420696002966470079', 'name': 'Patti Lacey', 'time': 1493338453309, 'rating': 5, 'text': \"I find almost everything I want to read here. The employees are always helpful and if you can't find what you are looking for they can order it for you.\\n\\nEnroll in additional savings with a member card if you buy books every week.\", 'pics': [{'url': ['https://lh5.googleusercontent.com/p/AF1QipP_nPUU5BdsX3FF1gLmdQZcVRKnfqkKSydd7Xt2=w150-h150-k-no-p']}], 'resp': None, 'gmap_id': '0x886b5ce67b02ad07:0x4db3aac93b11939b'}\n",
      "{'user_id': '101039921652255289747', 'name': 'The Concrete Man The Concrete Man', 'time': 1547593013827, 'rating': 5, 'text': \"When you ready to go bk to school you have to start somewhere.  It's been on my mind and now it's time to make that move. Where do you  go to shop for the books you need  ? This place with out a doubt.\", 'pics': [{'url': ['https://lh5.googleusercontent.com/p/AF1QipMR7eG8R3prN6B2nc7i85NlrHP04-hVAQ-05Do=w150-h150-k-no-p']}], 'resp': None, 'gmap_id': '0x886b5ce67b02ad07:0x4db3aac93b11939b'}\n",
      "{'user_id': '112035785715499086958', 'name': 'Carolyn Wesley', 'time': 1547638867506, 'rating': 5, 'text': 'So far B&N is my favorite place to browse for books', 'pics': [{'url': ['https://lh5.googleusercontent.com/p/AF1QipNoOZb1IXCnlpKiY82dHIP-lRLBDk9Hp3QHlnuJ=w150-h150-k-no-p']}], 'resp': None, 'gmap_id': '0x886b5ce67b02ad07:0x4db3aac93b11939b'}\n",
      "{'user_id': '105916200325598305323', 'name': 'gwrulz', 'time': 1572456044524, 'rating': 5, 'text': 'Only place to get Blitz Bowl', 'pics': [{'url': ['https://lh5.googleusercontent.com/p/AF1QipPJhm4esFss7OMB94Xgccjf4N-iTJZUx61yjYPa=w150-h150-k-no-p']}], 'resp': None, 'gmap_id': '0x886b5ce67b02ad07:0x4db3aac93b11939b'}\n",
      "{'user_id': '111579373146439125454', 'name': 'Brandy Anderson Stokes', 'time': 1590925958523, 'rating': 4, 'text': 'Quite and clean', 'pics': [{'url': ['https://lh5.googleusercontent.com/p/AF1QipMulaTj0L2kv-HPGQtF1ISNOHKJPa3oaAitCHhP=w150-h150-k-no-p']}], 'resp': None, 'gmap_id': '0x886b5ce67b02ad07:0x4db3aac93b11939b'}\n",
      "{'user_id': '106796971749173735684', 'name': 'J2B4GOD FORD', 'time': 1539149393340, 'rating': 5, 'text': None, 'pics': [{'url': ['https://lh5.googleusercontent.com/p/AF1QipOdOL5LVQLPxcnnNzBM9krd1G5vpens2X4BMOZq=w150-h150-k-no-p']}], 'resp': None, 'gmap_id': '0x886b5ce67b02ad07:0x4db3aac93b11939b'}\n"
     ]
    },
    {
     "name": "stderr",
     "output_type": "stream",
     "text": [
      "7638803it [00:37, 204667.94it/s]"
     ]
    },
    {
     "name": "stdout",
     "output_type": "stream",
     "text": [
      "Total Image Count (with max 50 images per gmap_id): 18\n"
     ]
    },
    {
     "name": "stderr",
     "output_type": "stream",
     "text": [
      "\n"
     ]
    }
   ],
   "source": [
    "import gzip\n",
    "import json\n",
    "from tqdm import tqdm\n",
    "from collections import defaultdict\n",
    "\n",
    "def total_images_with_limit(path, max_images_per_gmap=50):\n",
    "    gmap_images_count = defaultdict(int)  # Initialize dictionary with default int value for counting\n",
    "\n",
    "    with gzip.open(path, 'rt', encoding='utf-8') as g:\n",
    "        for line in tqdm(g):\n",
    "            review = json.loads(line)\n",
    "            gmap_id = review.get('gmap_id')\n",
    "            if gmap_id=='0x886b5ce67b02ad07:0x4db3aac93b11939b' and review.get('pics'):\n",
    "                print(review)\n",
    "                # Increment count with limit\n",
    "                potential_new_count = gmap_images_count[gmap_id] + len(review['pics'])\n",
    "                gmap_images_count[gmap_id] = min(potential_new_count, max_images_per_gmap)\n",
    "\n",
    "    # Calculate total count considering the limit\n",
    "    total_count = sum(gmap_images_count.values())\n",
    "\n",
    "    return total_count\n",
    "\n",
    "# Example usage\n",
    "path = '../datasets/indiana/review-Indiana_10.json.gz'\n",
    "total_images = total_images_with_limit(path)\n",
    "print(f\"Total Image Count (with max 50 images per gmap_id): {total_images}\")"
   ]
  },
  {
   "cell_type": "code",
   "execution_count": 6,
   "metadata": {},
   "outputs": [],
   "source": [
    "for review in matched_reviews:\n",
    "    print(review)"
   ]
  },
  {
   "cell_type": "markdown",
   "metadata": {},
   "source": [
    "## LLama index vector index"
   ]
  },
  {
   "cell_type": "code",
   "execution_count": 39,
   "metadata": {},
   "outputs": [
    {
     "name": "stderr",
     "output_type": "stream",
     "text": [
      "100391it [00:02, 40127.93it/s]\n"
     ]
    }
   ],
   "source": [
    "from llama_index.core import (\n",
    "    VectorStoreIndex,\n",
    "    SimpleDirectoryReader,\n",
    "    StorageContext,\n",
    ")\n",
    "from llama_index.vector_stores.chroma import ChromaVectorStore\n",
    "\n",
    "from llama_index.core import Document\n",
    "import gzip\n",
    "import json\n",
    "from tqdm import tqdm\n",
    "from llama_index.embeddings.huggingface import HuggingFaceEmbedding\n",
    "from llama_index.core import Settings\n",
    "\n",
    "embed_model = HuggingFaceEmbedding(model_name=\"BAAI/bge-small-en-v1.5\")\n",
    "Settings.embed_model= embed_model\n",
    "\n",
    "\n",
    "def read_lines_as_json(path):\n",
    "    lines_as_json = []\n",
    "    with gzip.open(path, 'rt', encoding='utf-8') as g:\n",
    "        for line in tqdm(g):\n",
    "            # Directly convert the line from JSON to a Python dict\n",
    "            json_line = json.loads(line)\n",
    "            lines_as_json.append(json_line)\n",
    "    return lines_as_json\n",
    "\n",
    "# Example usage\n",
    "path = 'datasets/indiana/meta-Indiana.json.gz'\n",
    "lines_as_strings = read_lines_as_json(path)\n",
    "documents =  [] #Document(text=t) for t in lines_as_strings] #SimpleDirectoryReader(\"../paul_graham_essay/data\").load_data()\n",
    "for t in lines_as_strings:\n",
    "    if 'gmap_id' in t:\n",
    "        address_or_name = t['address'] if t['address'] else t.get('name', '')\n",
    "        if address_or_name:\n",
    "            documents.append(Document(text=address_or_name,\n",
    "                                    metadata={'businessId': t['gmap_id']}))\n",
    "gmap_id_to_data = {}\n",
    "for t in lines_as_strings:\n",
    "    if 'gmap_id' in t:\n",
    "        gmap_id_to_data[t['gmap_id']] = t"
   ]
  },
  {
   "cell_type": "markdown",
   "metadata": {},
   "source": [
    "Chroma Vector DB"
   ]
  },
  {
   "cell_type": "code",
   "execution_count": 40,
   "metadata": {},
   "outputs": [
    {
     "data": {
      "text/markdown": [
       "[NodeWithScore(node=TextNode(id_='9591bf74-6472-4229-a45f-2848e22f497f', embedding=None, metadata={'businessId': '0x8811ea0bdb857eb5:0x214be6860173cce3'}, excluded_embed_metadata_keys=[], excluded_llm_metadata_keys=[], relationships={<NodeRelationship.SOURCE: '1'>: RelatedNodeInfo(node_id='f5d348a1-73b5-449d-b042-866386c24010', node_type=<ObjectType.DOCUMENT: '4'>, metadata={'businessId': '0x8811ea0bdb857eb5:0x214be6860173cce3'}, hash='1f48bc50a184edd1522a594aa8dfed7591bf47caec663c06965849670e0a0053')}, text='Best Security Fence', mimetype='text/plain', start_char_idx=0, end_char_idx=19, text_template='{metadata_str}\\n\\n{content}', metadata_template='{key}: {value}', metadata_seperator='\\n'), score=0.5484047419569787), NodeWithScore(node=TextNode(id_='21a8e6ff-f564-4b41-bd89-4c3d5700cfb0', embedding=None, metadata={'businessId': '0x886b28d1f9347d89:0x4aac48254d2ae1a'}, excluded_embed_metadata_keys=[], excluded_llm_metadata_keys=[], relationships={<NodeRelationship.SOURCE: '1'>: RelatedNodeInfo(node_id='4e3a3c5f-a2d6-499d-a727-f4bde4bdf9ab', node_type=<ObjectType.DOCUMENT: '4'>, metadata={'businessId': '0x886b28d1f9347d89:0x4aac48254d2ae1a'}, hash='6f6aa81325214aee4e4f5e45660be01e733d7a2afcd67532de61015dab2d8055')}, text='A-1 Superior Lock', mimetype='text/plain', start_char_idx=0, end_char_idx=17, text_template='{metadata_str}\\n\\n{content}', metadata_template='{key}: {value}', metadata_seperator='\\n'), score=0.5382219241890683)]"
      ],
      "text/plain": [
       "<IPython.core.display.Markdown object>"
      ]
     },
     "metadata": {},
     "output_type": "display_data"
    }
   ],
   "source": [
    "import chromadb\n",
    "from IPython.display import Markdown, display\n",
    "# create client and a new collection\n",
    "chroma_client = chromadb.EphemeralClient()\n",
    "try:\n",
    "    chroma_collection = chroma_client.create_collection(\"quickstart\")\n",
    "except:\n",
    "    chroma_client.delete_collection(\"quickstart\")\n",
    "    chroma_collection = chroma_client.create_collection(\"quickstart\")\n",
    "\n",
    "\n",
    "# set up ChromaVectorStore and load in data\n",
    "vector_store = ChromaVectorStore(chroma_collection=chroma_collection)\n",
    "storage_context = StorageContext.from_defaults(vector_store=vector_store)\n",
    "index = VectorStoreIndex.from_documents(\n",
    "    documents, storage_context=storage_context, embed_model=embed_model\n",
    ")\n",
    "\n",
    "# Query Data\n",
    "query_engine = index.as_retriever()\n",
    "response = query_engine.retrieve(\"Majestic security\")\n",
    "display(Markdown(f\"{response}\"))"
   ]
  },
  {
   "cell_type": "code",
   "execution_count": 41,
   "metadata": {},
   "outputs": [
    {
     "name": "stdout",
     "output_type": "stream",
     "text": [
      "Majestic Security, 3128 Lexington Park Dr, Elkhart, IN 46514\n",
      "{'name': 'Majestic Security', 'address': 'Majestic Security, 3128 Lexington Park Dr, Elkhart, IN 46514', 'gmap_id': '0x8816c4b2fb8fb6a1:0x80451636e10ca83f', 'description': None, 'latitude': 41.6899261, 'longitude': -86.02416989999999, 'category': ['Security guard service', 'Business to business service', 'Public safety office', 'Security service', 'Training centre', 'Training school', 'Transportation escort service'], 'avg_rating': 4.3, 'num_of_reviews': 48, 'price': None, 'hours': [['Thursday', '9AM–5PM'], ['Friday', '9AM–5PM'], ['Saturday', 'Closed'], ['Sunday', 'Closed'], ['Monday', '9AM–5PM'], ['Tuesday', '9AM–5PM'], ['Wednesday', '9AM–5PM']], 'MISC': None, 'state': 'Open ⋅ Closes 5PM', 'relative_results': ['0x8816e8092cc37eff:0xa138075153591bc7', '0x8816ce61cc404e23:0x71a5e9e0898036a4', '0x8816e9eb8afbc539:0x7d7ee677df3fafa3', '0x8816cd46eed45c35:0x7d80db2d3b489fc3', '0x8816ebe5c65cf3ad:0xe8dede77091f4ecf'], 'url': 'https://www.google.com/maps/place//data=!4m2!3m1!1s0x8816c4b2fb8fb6a1:0x80451636e10ca83f?authuser=-1&hl=en&gl=us'}\n"
     ]
    }
   ],
   "source": [
    "response = query_engine.retrieve(\"where is Majestic Security\")\n",
    "for i, r in enumerate(response):\n",
    "    print(r.text)\n",
    "    print(gmap_id_to_data[r.metadata['businessId']])"
   ]
  },
  {
   "cell_type": "code",
   "execution_count": 42,
   "metadata": {},
   "outputs": [
    {
     "name": "stdout",
     "output_type": "stream",
     "text": [
      "Majestic Security, 3128 Lexington Park Dr, Elkhart, IN 46514\n",
      "{\n",
      "    \"name\": \"Majestic Security\",\n",
      "    \"address\": \"Majestic Security, 3128 Lexington Park Dr, Elkhart, IN 46514\",\n",
      "    \"gmap_id\": \"0x8816c4b2fb8fb6a1:0x80451636e10ca83f\",\n",
      "    \"description\": null,\n",
      "    \"latitude\": 41.6899261,\n",
      "    \"longitude\": -86.02416989999999,\n",
      "    \"category\": [\n",
      "        \"Security guard service\",\n",
      "        \"Business to business service\",\n",
      "        \"Public safety office\",\n",
      "        \"Security service\",\n",
      "        \"Training centre\",\n",
      "        \"Training school\",\n",
      "        \"Transportation escort service\"\n",
      "    ],\n",
      "    \"avg_rating\": 4.3,\n",
      "    \"num_of_reviews\": 48,\n",
      "    \"price\": null,\n",
      "    \"hours\": [\n",
      "        [\n",
      "            \"Thursday\",\n",
      "            \"9AM\\u20135PM\"\n",
      "        ],\n",
      "        [\n",
      "            \"Friday\",\n",
      "            \"9AM\\u20135PM\"\n",
      "        ],\n",
      "        [\n",
      "            \"Saturday\",\n",
      "            \"Closed\"\n",
      "        ],\n",
      "        [\n",
      "            \"Sunday\",\n",
      "            \"Closed\"\n",
      "        ],\n",
      "        [\n",
      "            \"Monday\",\n",
      "            \"9AM\\u20135PM\"\n",
      "        ],\n",
      "        [\n",
      "            \"Tuesday\",\n",
      "            \"9AM\\u20135PM\"\n",
      "        ],\n",
      "        [\n",
      "            \"Wednesday\",\n",
      "            \"9AM\\u20135PM\"\n",
      "        ]\n",
      "    ],\n",
      "    \"MISC\": null,\n",
      "    \"state\": \"Open \\u22c5 Closes 5PM\",\n",
      "    \"relative_results\": [\n",
      "        \"0x8816e8092cc37eff:0xa138075153591bc7\",\n",
      "        \"0x8816ce61cc404e23:0x71a5e9e0898036a4\",\n",
      "        \"0x8816e9eb8afbc539:0x7d7ee677df3fafa3\",\n",
      "        \"0x8816cd46eed45c35:0x7d80db2d3b489fc3\",\n",
      "        \"0x8816ebe5c65cf3ad:0xe8dede77091f4ecf\"\n",
      "    ],\n",
      "    \"url\": \"https://www.google.com/maps/place//data=!4m2!3m1!1s0x8816c4b2fb8fb6a1:0x80451636e10ca83f?authuser=-1&hl=en&gl=us\"\n",
      "}\n"
     ]
    }
   ],
   "source": [
    "import json\n",
    "\n",
    "response = query_engine.retrieve(\"where is Majestic Security\")\n",
    "for i, r in enumerate(response):\n",
    "    print(r.text)\n",
    "    formatted_json = json.dumps(gmap_id_to_data[r.metadata['businessId']], indent=4)\n",
    "    print(formatted_json)"
   ]
  },
  {
   "cell_type": "code",
   "execution_count": 46,
   "metadata": {},
   "outputs": [
    {
     "name": "stdout",
     "output_type": "stream",
     "text": [
      "assistant: A delicious question!\n",
      "\n",
      "Pizza Hut, also known as Pizza Hut, is a popular international fast-food restaurant chain that specializes in pizzas and other Italian-American cuisine. Here's what they're famous for:\n",
      "\n",
      "1. **Pan Pizza**: Their signature dish, the Pan Pizza, is a staple. It's made with a thick crust, topped with melted cheese, sauce, and various toppings.\n",
      "2. **Stuffed Crust**: A unique feature that sets them apart from other pizza chains. The crust is hollowed out and filled with seasonings or cheeses, adding an extra layer of flavor to the pizza.\n",
      "3. **WingStreet**: Pizza Hut's wing menu offers a variety of flavors, including classic buffalo, honey mustard, and more. Their wings are known for being crispy on the outside and juicy on the inside.\n",
      "4. **Delivery**: Pizza Hut is one of the pioneers in the pizza delivery market. They have a vast network of restaurants that offer delivery services, making it convenient for customers to enjoy their food from the comfort of their own homes.\n",
      "\n",
      "Overall, Pizza Hut is famous for its signature pan pizzas, stuffed crust, and variety of menu options, including wings and desserts!\n"
     ]
    }
   ],
   "source": [
    "from llama_index.llms.ollama import Ollama\n",
    "from llama_index.core.llms import ChatMessage\n",
    "llm = Ollama(model=\"llama3\", request_timeout=120.0)\n",
    "\n",
    "\n",
    "\n",
    "messages = [\n",
    "    ChatMessage(\n",
    "        role=\"system\", content=\"You are helpfully assistant that can help you find information about businesses.\"\n",
    "    ),\n",
    "    ChatMessage(role=\"user\", content=\"what is pizza hut famous for?\"),\n",
    "]\n",
    "resp = llm.chat(messages)\n",
    "print(resp)"
   ]
  },
  {
   "cell_type": "markdown",
   "metadata": {},
   "source": [
    "## RAG baseline **Ingored"
   ]
  },
  {
   "cell_type": "code",
   "execution_count": null,
   "metadata": {},
   "outputs": [],
   "source": [
    "import torch\n",
    "from transformers import AutoTokenizer, AutoModelForCausalLM\n",
    "from sentence_transformers import SentenceTransformer\n",
    "import numpy as np\n",
    "\n",
    "class LocationRAGModel:\n",
    "    def __init__(self):\n",
    "        self.initialize_models()\n",
    "        self.business_data = {}  # Will store business metadata\n",
    "        self.reviews_data = {}   # Will store user reviews\n",
    "\n",
    "    def initialize_models(self):\n",
    "        # Initialize language model\n",
    "        self.model_name = \"models/meta-llama/Meta-Llama-3-8B-Instruct\"\n",
    "        self.tokenizer = AutoTokenizer.from_pretrained(self.model_name)\n",
    "        self.llm = AutoModelForCausalLM.from_pretrained(self.model_name, device_map=\"auto\", torch_dtype=torch.float16)\n",
    "\n",
    "        # Initialize sentence transformer\n",
    "        self.sentence_model = SentenceTransformer(\n",
    "            \"models/sentence-transformers/all-MiniLM-L6-v2\",\n",
    "            device=torch.device(\"cuda\" if torch.cuda.is_available() else \"cpu\")\n",
    "        )\n",
    "\n",
    "    def load_data(self, business_path, reviews_path):\n",
    "        # Load business metadata\n",
    "        with gzip.open(business_path, 'rt', encoding='utf-8') as f:\n",
    "            for line in f:\n",
    "                data = json.loads(line)\n",
    "                self.business_data[data['gmap_id']] = data\n",
    "\n",
    "        # Load user reviews\n",
    "        with gzip.open(reviews_path, 'rt', encoding='utf-8') as f:\n",
    "            for line in f:\n",
    "                data = json.loads(line)\n",
    "                if data['gmap_id'] not in self.reviews_data:\n",
    "                    self.reviews_data[data['gmap_id']] = []\n",
    "                self.reviews_data[data['gmap_id']].append(data)\n",
    "\n",
    "    def calculate_embeddings(self, sentences):\n",
    "        return self.sentence_model.encode(\n",
    "            sentences=sentences,\n",
    "            normalize_embeddings=True,\n",
    "            batch_size=32\n",
    "        )\n",
    "\n",
    "    def search_businesses(self, query, top_k=5):\n",
    "        query_embedding = self.calculate_embeddings([query])[0]\n",
    "        \n",
    "        business_texts = [f\"{b['name']} - {b['category'][0]} - {b['description']}\" for b in self.business_data.values()]\n",
    "        business_embeddings = self.calculate_embeddings(business_texts)\n",
    "        \n",
    "        similarities = np.dot(business_embeddings, query_embedding)\n",
    "        top_indices = np.argsort(similarities)[-top_k:][::-1]\n",
    "        \n",
    "        return [list(self.business_data.values())[i] for i in top_indices]\n",
    "\n",
    "    def format_prompt(self, query, relevant_businesses):\n",
    "        prompt = f\"Query: {query}\\n\\nRelevant Businesses:\\n\"\n",
    "        for business in relevant_businesses:\n",
    "            prompt += f\"- Name: {business['name']}\\n\"\n",
    "            prompt += f\"  Category: {', '.join(business['category'])}\\n\"\n",
    "            prompt += f\"  Rating: {business['avg_rating']} ({business['num_of_reviews']} reviews)\\n\"\n",
    "            prompt += f\"  Address: {business['address']}\\n\\n\"\n",
    "            \n",
    "            # Add a sample review if available\n",
    "            if business['gmap_id'] in self.reviews_data:\n",
    "                sample_review = self.reviews_data[business['gmap_id']][0]\n",
    "                prompt += f\"  Sample Review: {sample_review['text'][:100]}...\\n\\n\"\n",
    "        \n",
    "        prompt += \"Based on the above information, provide a concise recommendation or answer to the query.\"\n",
    "        return prompt\n",
    "\n",
    "    def generate_answer(self, query):\n",
    "        relevant_businesses = self.search_businesses(query)\n",
    "        prompt = self.format_prompt(query, relevant_businesses)\n",
    "        \n",
    "        input_ids = self.tokenizer(prompt, return_tensors=\"pt\").input_ids.to(self.llm.device)\n",
    "        \n",
    "        with torch.no_grad():\n",
    "            output = self.llm.generate(\n",
    "                input_ids,\n",
    "                max_new_tokens=75,\n",
    "                do_sample=True,\n",
    "                top_p=0.9,\n",
    "                temperature=0.7\n",
    "            )\n",
    "        \n",
    "        answer = self.tokenizer.decode(output[0, input_ids.shape[1]:], skip_special_tokens=True)\n",
    "        return answer.strip()\n",
    "\n",
    "# Usage example\n",
    "rag_model = LocationRAGModel()\n",
    "rag_model.load_data('meta-Indiana.json.gz', 'review-Indiana_10.json.gz')\n",
    "\n",
    "query = \"What's a good security service in Elkhart, Indiana?\"\n",
    "answer = rag_model.generate_answer(query)\n",
    "print(answer)"
   ]
  }
 ],
 "metadata": {
  "kernelspec": {
   "display_name": "llm-cls",
   "language": "python",
   "name": "python3"
  },
  "language_info": {
   "codemirror_mode": {
    "name": "ipython",
    "version": 3
   },
   "file_extension": ".py",
   "mimetype": "text/x-python",
   "name": "python",
   "nbconvert_exporter": "python",
   "pygments_lexer": "ipython3",
   "version": "3.11.9"
  }
 },
 "nbformat": 4,
 "nbformat_minor": 2
}
