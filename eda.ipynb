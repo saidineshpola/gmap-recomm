{
 "cells": [
  {
   "cell_type": "markdown",
   "metadata": {},
   "source": [
    "## DATA read"
   ]
  },
  {
   "cell_type": "code",
   "execution_count": 12,
   "metadata": {},
   "outputs": [
    {
     "name": "stdout",
     "output_type": "stream",
     "text": [
      "{'name': 'Sawmill Apartments', 'address': 'Sawmill Apartments, 3721 Lickridge Ln N Dr, Indianapolis, IN 46237', 'gmap_id': '0x886b5b257d972ebb:0x29a436ce40733c04', 'description': None, 'latitude': 39.7025668, 'longitude': -86.1041592, 'category': ['Apartment building'], 'avg_rating': 1.8, 'num_of_reviews': 36, 'price': None, 'hours': [['Thursday', '9AM–5PM'], ['Friday', '9AM–5PM'], ['Saturday', 'Closed'], ['Sunday', 'Closed'], ['Monday', '9AM–5PM'], ['Tuesday', '9AM–5PM'], ['Wednesday', '9AM–5PM']], 'MISC': {'Accessibility': ['Wheelchair accessible entrance']}, 'state': 'Open ⋅ Closes 5PM', 'relative_results': ['0x886b44b8804e5c91:0xc225b9a948999644', '0x886b5b32af64829b:0x1f7323081ef9dec', '0x886b5b31dfc591e3:0xf142a8c9eb079948', '0x886b5cf7d6555ac9:0x3c2918446aa09c7b', '0x886b5b20499a3fe7:0xdabc6214dd85f769'], 'url': 'https://www.google.com/maps/place//data=!4m2!3m1!1s0x886b5b257d972ebb:0x29a436ce40733c04?authuser=-1&hl=en&gl=us'}\n"
     ]
    }
   ],
   "source": [
    "import gzip\n",
    "import json\n",
    "from tqdm import tqdm\n",
    "# Assuming 'review-Indiana_10.json.gz' is the path to your gzip file\n",
    "def read_one_line(path, target_gmap_id='ChIJ0ZGKJp3Qa4gRZb4q4ZCv0v0'):\n",
    "    with gzip.open(path, 'rt', encoding='utf-8') as g:\n",
    "        for line in g:\n",
    "            data = json.loads(line)\n",
    "            if data.get('gmap_id') == target_gmap_id:\n",
    "                return data\n",
    "    return \"gmap_id not found.\"\n",
    "\n",
    "# Example usage\n",
    "path = 'datasets/indiana/meta-Indiana.json.gz'\n",
    "target_gmap_id = '0x886b5b257d972ebb:0x29a436ce40733c04'\n",
    "first_line = read_one_line(path, target_gmap_id)\n",
    "print(first_line)"
   ]
  },
  {
   "cell_type": "code",
   "execution_count": 10,
   "metadata": {},
   "outputs": [
    {
     "name": "stdout",
     "output_type": "stream",
     "text": [
      "{'user_id': '108987166009783498172', 'name': 'Ashley Clark', 'time': 1480971694081, 'rating': 1, 'text': \"We have lived here 4 years now. Every summer, the air has to be fixed. Every winter, the heater has to be fixed. The pool is always closed and dirty. Bug issues that we have to pay for. Our water heater has caught fire before in which I had to wake my kids up to get them out to wait for fire dept. Rent goes up every year but the service of maintenance stays the same crappy service every year. There is always a leak with the water in the tub or sink. They'll fix it when they get to it and then a few months later, same problem arises. They'll charge you for everything! Can't wait to move!!! For as much as we pay for this 2 bedroom box, we could get a house. That is exactly what we'll be doing when our lease is up!\", 'pics': None, 'resp': None, 'gmap_id': '0x886b5b257d972ebb:0x29a436ce40733c04'}\n"
     ]
    }
   ],
   "source": [
    "import gzip\n",
    "import json\n",
    "\n",
    "def get_info_by_gmap_id(path, target_gmap_id):\n",
    "    with gzip.open(path, 'rt', encoding='utf-8') as g:\n",
    "        for line in g:\n",
    "            data = json.loads(line)\n",
    "            if data.get('gmap_id') == target_gmap_id:\n",
    "                return data\n",
    "    return \"gmap_id not found.\"\n",
    "\n",
    "# Example usage\n",
    "path = 'datasets/indiana/review-Indiana_10.json.gz'\n",
    "target_gmap_id = '0x886b5b257d972ebb:0x29a436ce40733c04'\n",
    "info = get_info_by_gmap_id(path, target_gmap_id)\n",
    "print(info)"
   ]
  },
  {
   "cell_type": "code",
   "execution_count": 3,
   "metadata": {},
   "outputs": [
    {
     "name": "stderr",
     "output_type": "stream",
     "text": [
      "7638803it [00:26, 287288.40it/s]"
     ]
    },
    {
     "name": "stdout",
     "output_type": "stream",
     "text": [
      "Total Image Count (with max 50 images per gmap_id): 304971\n"
     ]
    },
    {
     "name": "stderr",
     "output_type": "stream",
     "text": [
      "\n"
     ]
    }
   ],
   "source": [
    "import gzip\n",
    "import json\n",
    "from tqdm import tqdm\n",
    "from collections import defaultdict\n",
    "\n",
    "def total_images_with_limit(path, max_images_per_gmap=50):\n",
    "    gmap_images_count = defaultdict(int)  # Initialize dictionary with default int value for counting\n",
    "\n",
    "    with gzip.open(path, 'rt', encoding='utf-8') as g:\n",
    "        for line in tqdm(g):\n",
    "            review = json.loads(line)\n",
    "            gmap_id = review.get('gmap_id')\n",
    "            if gmap_id and review.get('pics'):\n",
    "                # Increment count with limit\n",
    "                potential_new_count = gmap_images_count[gmap_id] + len(review['pics'])\n",
    "                gmap_images_count[gmap_id] = min(potential_new_count, max_images_per_gmap)\n",
    "\n",
    "    # Calculate total count considering the limit\n",
    "    total_count = sum(gmap_images_count.values())\n",
    "\n",
    "    return total_count\n",
    "\n",
    "# Example usage\n",
    "path = 'datasets/indiana/review-Indiana_10.json.gz'\n",
    "total_images = total_images_with_limit(path)\n",
    "print(f\"Total Image Count (with max 50 images per gmap_id): {total_images}\")"
   ]
  },
  {
   "cell_type": "code",
   "execution_count": 6,
   "metadata": {},
   "outputs": [],
   "source": [
    "for review in matched_reviews:\n",
    "    print(review)"
   ]
  },
  {
   "cell_type": "markdown",
   "metadata": {},
   "source": [
    "## LLama index vector index"
   ]
  },
  {
   "cell_type": "code",
   "execution_count": 39,
   "metadata": {},
   "outputs": [
    {
     "name": "stderr",
     "output_type": "stream",
     "text": [
      "100391it [00:02, 40127.93it/s]\n"
     ]
    }
   ],
   "source": [
    "from llama_index.core import (\n",
    "    VectorStoreIndex,\n",
    "    SimpleDirectoryReader,\n",
    "    StorageContext,\n",
    ")\n",
    "from llama_index.vector_stores.chroma import ChromaVectorStore\n",
    "\n",
    "from llama_index.core import Document\n",
    "import gzip\n",
    "import json\n",
    "from tqdm import tqdm\n",
    "from llama_index.embeddings.huggingface import HuggingFaceEmbedding\n",
    "from llama_index.core import Settings\n",
    "\n",
    "embed_model = HuggingFaceEmbedding(model_name=\"BAAI/bge-small-en-v1.5\")\n",
    "Settings.embed_model= embed_model\n",
    "\n",
    "\n",
    "def read_lines_as_json(path):\n",
    "    lines_as_json = []\n",
    "    with gzip.open(path, 'rt', encoding='utf-8') as g:\n",
    "        for line in tqdm(g):\n",
    "            # Directly convert the line from JSON to a Python dict\n",
    "            json_line = json.loads(line)\n",
    "            lines_as_json.append(json_line)\n",
    "    return lines_as_json\n",
    "\n",
    "# Example usage\n",
    "path = 'datasets/indiana/meta-Indiana.json.gz'\n",
    "lines_as_strings = read_lines_as_json(path)\n",
    "documents =  [] #Document(text=t) for t in lines_as_strings] #SimpleDirectoryReader(\"../paul_graham_essay/data\").load_data()\n",
    "for t in lines_as_strings:\n",
    "    if 'gmap_id' in t:\n",
    "        address_or_name = t['address'] if t['address'] else t.get('name', '')\n",
    "        if address_or_name:\n",
    "            documents.append(Document(text=address_or_name,\n",
    "                                    metadata={'businessId': t['gmap_id']}))\n",
    "gmap_id_to_data = {}\n",
    "for t in lines_as_strings:\n",
    "    if 'gmap_id' in t:\n",
    "        gmap_id_to_data[t['gmap_id']] = t"
   ]
  },
  {
   "cell_type": "markdown",
   "metadata": {},
   "source": [
    "Chroma Vector DB"
   ]
  },
  {
   "cell_type": "code",
   "execution_count": 40,
   "metadata": {},
   "outputs": [
    {
     "data": {
      "text/markdown": [
       "[NodeWithScore(node=TextNode(id_='9591bf74-6472-4229-a45f-2848e22f497f', embedding=None, metadata={'businessId': '0x8811ea0bdb857eb5:0x214be6860173cce3'}, excluded_embed_metadata_keys=[], excluded_llm_metadata_keys=[], relationships={<NodeRelationship.SOURCE: '1'>: RelatedNodeInfo(node_id='f5d348a1-73b5-449d-b042-866386c24010', node_type=<ObjectType.DOCUMENT: '4'>, metadata={'businessId': '0x8811ea0bdb857eb5:0x214be6860173cce3'}, hash='1f48bc50a184edd1522a594aa8dfed7591bf47caec663c06965849670e0a0053')}, text='Best Security Fence', mimetype='text/plain', start_char_idx=0, end_char_idx=19, text_template='{metadata_str}\\n\\n{content}', metadata_template='{key}: {value}', metadata_seperator='\\n'), score=0.5484047419569787), NodeWithScore(node=TextNode(id_='21a8e6ff-f564-4b41-bd89-4c3d5700cfb0', embedding=None, metadata={'businessId': '0x886b28d1f9347d89:0x4aac48254d2ae1a'}, excluded_embed_metadata_keys=[], excluded_llm_metadata_keys=[], relationships={<NodeRelationship.SOURCE: '1'>: RelatedNodeInfo(node_id='4e3a3c5f-a2d6-499d-a727-f4bde4bdf9ab', node_type=<ObjectType.DOCUMENT: '4'>, metadata={'businessId': '0x886b28d1f9347d89:0x4aac48254d2ae1a'}, hash='6f6aa81325214aee4e4f5e45660be01e733d7a2afcd67532de61015dab2d8055')}, text='A-1 Superior Lock', mimetype='text/plain', start_char_idx=0, end_char_idx=17, text_template='{metadata_str}\\n\\n{content}', metadata_template='{key}: {value}', metadata_seperator='\\n'), score=0.5382219241890683)]"
      ],
      "text/plain": [
       "<IPython.core.display.Markdown object>"
      ]
     },
     "metadata": {},
     "output_type": "display_data"
    }
   ],
   "source": [
    "import chromadb\n",
    "from IPython.display import Markdown, display\n",
    "# create client and a new collection\n",
    "chroma_client = chromadb.EphemeralClient()\n",
    "try:\n",
    "    chroma_collection = chroma_client.create_collection(\"quickstart\")\n",
    "except:\n",
    "    chroma_client.delete_collection(\"quickstart\")\n",
    "    chroma_collection = chroma_client.create_collection(\"quickstart\")\n",
    "\n",
    "\n",
    "# set up ChromaVectorStore and load in data\n",
    "vector_store = ChromaVectorStore(chroma_collection=chroma_collection)\n",
    "storage_context = StorageContext.from_defaults(vector_store=vector_store)\n",
    "index = VectorStoreIndex.from_documents(\n",
    "    documents, storage_context=storage_context, embed_model=embed_model\n",
    ")\n",
    "\n",
    "# Query Data\n",
    "query_engine = index.as_retriever()\n",
    "response = query_engine.retrieve(\"Majestic security\")\n",
    "display(Markdown(f\"{response}\"))"
   ]
  },
  {
   "cell_type": "code",
   "execution_count": 41,
   "metadata": {},
   "outputs": [
    {
     "name": "stdout",
     "output_type": "stream",
     "text": [
      "Majestic Security, 3128 Lexington Park Dr, Elkhart, IN 46514\n",
      "{'name': 'Majestic Security', 'address': 'Majestic Security, 3128 Lexington Park Dr, Elkhart, IN 46514', 'gmap_id': '0x8816c4b2fb8fb6a1:0x80451636e10ca83f', 'description': None, 'latitude': 41.6899261, 'longitude': -86.02416989999999, 'category': ['Security guard service', 'Business to business service', 'Public safety office', 'Security service', 'Training centre', 'Training school', 'Transportation escort service'], 'avg_rating': 4.3, 'num_of_reviews': 48, 'price': None, 'hours': [['Thursday', '9AM–5PM'], ['Friday', '9AM–5PM'], ['Saturday', 'Closed'], ['Sunday', 'Closed'], ['Monday', '9AM–5PM'], ['Tuesday', '9AM–5PM'], ['Wednesday', '9AM–5PM']], 'MISC': None, 'state': 'Open ⋅ Closes 5PM', 'relative_results': ['0x8816e8092cc37eff:0xa138075153591bc7', '0x8816ce61cc404e23:0x71a5e9e0898036a4', '0x8816e9eb8afbc539:0x7d7ee677df3fafa3', '0x8816cd46eed45c35:0x7d80db2d3b489fc3', '0x8816ebe5c65cf3ad:0xe8dede77091f4ecf'], 'url': 'https://www.google.com/maps/place//data=!4m2!3m1!1s0x8816c4b2fb8fb6a1:0x80451636e10ca83f?authuser=-1&hl=en&gl=us'}\n"
     ]
    }
   ],
   "source": [
    "response = query_engine.retrieve(\"where is Majestic Security\")\n",
    "for i, r in enumerate(response):\n",
    "    print(r.text)\n",
    "    print(gmap_id_to_data[r.metadata['businessId']])"
   ]
  },
  {
   "cell_type": "code",
   "execution_count": 42,
   "metadata": {},
   "outputs": [
    {
     "name": "stdout",
     "output_type": "stream",
     "text": [
      "Majestic Security, 3128 Lexington Park Dr, Elkhart, IN 46514\n",
      "{\n",
      "    \"name\": \"Majestic Security\",\n",
      "    \"address\": \"Majestic Security, 3128 Lexington Park Dr, Elkhart, IN 46514\",\n",
      "    \"gmap_id\": \"0x8816c4b2fb8fb6a1:0x80451636e10ca83f\",\n",
      "    \"description\": null,\n",
      "    \"latitude\": 41.6899261,\n",
      "    \"longitude\": -86.02416989999999,\n",
      "    \"category\": [\n",
      "        \"Security guard service\",\n",
      "        \"Business to business service\",\n",
      "        \"Public safety office\",\n",
      "        \"Security service\",\n",
      "        \"Training centre\",\n",
      "        \"Training school\",\n",
      "        \"Transportation escort service\"\n",
      "    ],\n",
      "    \"avg_rating\": 4.3,\n",
      "    \"num_of_reviews\": 48,\n",
      "    \"price\": null,\n",
      "    \"hours\": [\n",
      "        [\n",
      "            \"Thursday\",\n",
      "            \"9AM\\u20135PM\"\n",
      "        ],\n",
      "        [\n",
      "            \"Friday\",\n",
      "            \"9AM\\u20135PM\"\n",
      "        ],\n",
      "        [\n",
      "            \"Saturday\",\n",
      "            \"Closed\"\n",
      "        ],\n",
      "        [\n",
      "            \"Sunday\",\n",
      "            \"Closed\"\n",
      "        ],\n",
      "        [\n",
      "            \"Monday\",\n",
      "            \"9AM\\u20135PM\"\n",
      "        ],\n",
      "        [\n",
      "            \"Tuesday\",\n",
      "            \"9AM\\u20135PM\"\n",
      "        ],\n",
      "        [\n",
      "            \"Wednesday\",\n",
      "            \"9AM\\u20135PM\"\n",
      "        ]\n",
      "    ],\n",
      "    \"MISC\": null,\n",
      "    \"state\": \"Open \\u22c5 Closes 5PM\",\n",
      "    \"relative_results\": [\n",
      "        \"0x8816e8092cc37eff:0xa138075153591bc7\",\n",
      "        \"0x8816ce61cc404e23:0x71a5e9e0898036a4\",\n",
      "        \"0x8816e9eb8afbc539:0x7d7ee677df3fafa3\",\n",
      "        \"0x8816cd46eed45c35:0x7d80db2d3b489fc3\",\n",
      "        \"0x8816ebe5c65cf3ad:0xe8dede77091f4ecf\"\n",
      "    ],\n",
      "    \"url\": \"https://www.google.com/maps/place//data=!4m2!3m1!1s0x8816c4b2fb8fb6a1:0x80451636e10ca83f?authuser=-1&hl=en&gl=us\"\n",
      "}\n"
     ]
    }
   ],
   "source": [
    "import json\n",
    "\n",
    "response = query_engine.retrieve(\"where is Majestic Security\")\n",
    "for i, r in enumerate(response):\n",
    "    print(r.text)\n",
    "    formatted_json = json.dumps(gmap_id_to_data[r.metadata['businessId']], indent=4)\n",
    "    print(formatted_json)"
   ]
  },
  {
   "cell_type": "code",
   "execution_count": 46,
   "metadata": {},
   "outputs": [
    {
     "name": "stdout",
     "output_type": "stream",
     "text": [
      "assistant: A delicious question!\n",
      "\n",
      "Pizza Hut, also known as Pizza Hut, is a popular international fast-food restaurant chain that specializes in pizzas and other Italian-American cuisine. Here's what they're famous for:\n",
      "\n",
      "1. **Pan Pizza**: Their signature dish, the Pan Pizza, is a staple. It's made with a thick crust, topped with melted cheese, sauce, and various toppings.\n",
      "2. **Stuffed Crust**: A unique feature that sets them apart from other pizza chains. The crust is hollowed out and filled with seasonings or cheeses, adding an extra layer of flavor to the pizza.\n",
      "3. **WingStreet**: Pizza Hut's wing menu offers a variety of flavors, including classic buffalo, honey mustard, and more. Their wings are known for being crispy on the outside and juicy on the inside.\n",
      "4. **Delivery**: Pizza Hut is one of the pioneers in the pizza delivery market. They have a vast network of restaurants that offer delivery services, making it convenient for customers to enjoy their food from the comfort of their own homes.\n",
      "\n",
      "Overall, Pizza Hut is famous for its signature pan pizzas, stuffed crust, and variety of menu options, including wings and desserts!\n"
     ]
    }
   ],
   "source": [
    "from llama_index.llms.ollama import Ollama\n",
    "from llama_index.core.llms import ChatMessage\n",
    "llm = Ollama(model=\"llama3\", request_timeout=120.0)\n",
    "\n",
    "\n",
    "\n",
    "messages = [\n",
    "    ChatMessage(\n",
    "        role=\"system\", content=\"You are helpfully assistant that can help you find information about businesses.\"\n",
    "    ),\n",
    "    ChatMessage(role=\"user\", content=\"what is pizza hut famous for?\"),\n",
    "]\n",
    "resp = llm.chat(messages)\n",
    "print(resp)"
   ]
  },
  {
   "cell_type": "markdown",
   "metadata": {},
   "source": [
    "## RAG baseline"
   ]
  },
  {
   "cell_type": "code",
   "execution_count": null,
   "metadata": {},
   "outputs": [],
   "source": [
    "import torch\n",
    "from transformers import AutoTokenizer, AutoModelForCausalLM\n",
    "from sentence_transformers import SentenceTransformer\n",
    "import numpy as np\n",
    "\n",
    "class LocationRAGModel:\n",
    "    def __init__(self):\n",
    "        self.initialize_models()\n",
    "        self.business_data = {}  # Will store business metadata\n",
    "        self.reviews_data = {}   # Will store user reviews\n",
    "\n",
    "    def initialize_models(self):\n",
    "        # Initialize language model\n",
    "        self.model_name = \"models/meta-llama/Meta-Llama-3-8B-Instruct\"\n",
    "        self.tokenizer = AutoTokenizer.from_pretrained(self.model_name)\n",
    "        self.llm = AutoModelForCausalLM.from_pretrained(self.model_name, device_map=\"auto\", torch_dtype=torch.float16)\n",
    "\n",
    "        # Initialize sentence transformer\n",
    "        self.sentence_model = SentenceTransformer(\n",
    "            \"models/sentence-transformers/all-MiniLM-L6-v2\",\n",
    "            device=torch.device(\"cuda\" if torch.cuda.is_available() else \"cpu\")\n",
    "        )\n",
    "\n",
    "    def load_data(self, business_path, reviews_path):\n",
    "        # Load business metadata\n",
    "        with gzip.open(business_path, 'rt', encoding='utf-8') as f:\n",
    "            for line in f:\n",
    "                data = json.loads(line)\n",
    "                self.business_data[data['gmap_id']] = data\n",
    "\n",
    "        # Load user reviews\n",
    "        with gzip.open(reviews_path, 'rt', encoding='utf-8') as f:\n",
    "            for line in f:\n",
    "                data = json.loads(line)\n",
    "                if data['gmap_id'] not in self.reviews_data:\n",
    "                    self.reviews_data[data['gmap_id']] = []\n",
    "                self.reviews_data[data['gmap_id']].append(data)\n",
    "\n",
    "    def calculate_embeddings(self, sentences):\n",
    "        return self.sentence_model.encode(\n",
    "            sentences=sentences,\n",
    "            normalize_embeddings=True,\n",
    "            batch_size=32\n",
    "        )\n",
    "\n",
    "    def search_businesses(self, query, top_k=5):\n",
    "        query_embedding = self.calculate_embeddings([query])[0]\n",
    "        \n",
    "        business_texts = [f\"{b['name']} - {b['category'][0]} - {b['description']}\" for b in self.business_data.values()]\n",
    "        business_embeddings = self.calculate_embeddings(business_texts)\n",
    "        \n",
    "        similarities = np.dot(business_embeddings, query_embedding)\n",
    "        top_indices = np.argsort(similarities)[-top_k:][::-1]\n",
    "        \n",
    "        return [list(self.business_data.values())[i] for i in top_indices]\n",
    "\n",
    "    def format_prompt(self, query, relevant_businesses):\n",
    "        prompt = f\"Query: {query}\\n\\nRelevant Businesses:\\n\"\n",
    "        for business in relevant_businesses:\n",
    "            prompt += f\"- Name: {business['name']}\\n\"\n",
    "            prompt += f\"  Category: {', '.join(business['category'])}\\n\"\n",
    "            prompt += f\"  Rating: {business['avg_rating']} ({business['num_of_reviews']} reviews)\\n\"\n",
    "            prompt += f\"  Address: {business['address']}\\n\\n\"\n",
    "            \n",
    "            # Add a sample review if available\n",
    "            if business['gmap_id'] in self.reviews_data:\n",
    "                sample_review = self.reviews_data[business['gmap_id']][0]\n",
    "                prompt += f\"  Sample Review: {sample_review['text'][:100]}...\\n\\n\"\n",
    "        \n",
    "        prompt += \"Based on the above information, provide a concise recommendation or answer to the query.\"\n",
    "        return prompt\n",
    "\n",
    "    def generate_answer(self, query):\n",
    "        relevant_businesses = self.search_businesses(query)\n",
    "        prompt = self.format_prompt(query, relevant_businesses)\n",
    "        \n",
    "        input_ids = self.tokenizer(prompt, return_tensors=\"pt\").input_ids.to(self.llm.device)\n",
    "        \n",
    "        with torch.no_grad():\n",
    "            output = self.llm.generate(\n",
    "                input_ids,\n",
    "                max_new_tokens=75,\n",
    "                do_sample=True,\n",
    "                top_p=0.9,\n",
    "                temperature=0.7\n",
    "            )\n",
    "        \n",
    "        answer = self.tokenizer.decode(output[0, input_ids.shape[1]:], skip_special_tokens=True)\n",
    "        return answer.strip()\n",
    "\n",
    "# Usage example\n",
    "rag_model = LocationRAGModel()\n",
    "rag_model.load_data('meta-Indiana.json.gz', 'review-Indiana_10.json.gz')\n",
    "\n",
    "query = \"What's a good security service in Elkhart, Indiana?\"\n",
    "answer = rag_model.generate_answer(query)\n",
    "print(answer)"
   ]
  }
 ],
 "metadata": {
  "kernelspec": {
   "display_name": "llm-cls",
   "language": "python",
   "name": "python3"
  },
  "language_info": {
   "codemirror_mode": {
    "name": "ipython",
    "version": 3
   },
   "file_extension": ".py",
   "mimetype": "text/x-python",
   "name": "python",
   "nbconvert_exporter": "python",
   "pygments_lexer": "ipython3",
   "version": "3.11.9"
  }
 },
 "nbformat": 4,
 "nbformat_minor": 2
}
